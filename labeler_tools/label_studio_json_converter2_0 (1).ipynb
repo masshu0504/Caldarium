{
  "nbformat": 4,
  "nbformat_minor": 0,
  "metadata": {
    "colab": {
      "provenance": []
    },
    "kernelspec": {
      "name": "python3",
      "display_name": "Python 3"
    },
    "language_info": {
      "name": "python"
    }
  },
  "cells": [
    {
      "cell_type": "code",
      "source": [
        "# This code is best run inside Google Colab, or some alternations have to be made to the code.\n",
        "# For accurate output, make sure labeling is meticulous. Especially for line_items.\n",
        "# All descriptions labeled together, all codes labeled together, all amounts labeled together, all in the same order intended to appear in the JSON."
      ],
      "metadata": {
        "id": "rJqO0GbP60pU"
      },
      "execution_count": null,
      "outputs": []
    },
    {
      "cell_type": "code",
      "execution_count": null,
      "metadata": {
        "id": "I8oRDJ8Ggt2w",
        "collapsed": true
      },
      "outputs": [],
      "source": [
        "!pip install pdfplumber\n",
        "from google.colab import files\n",
        "import json, os, shutil"
      ]
    },
    {
      "cell_type": "code",
      "source": [
        "# === Step 1. Upload your Label Studio JSON ===\n",
        "uploaded = files.upload()\n",
        "filename = list(uploaded.keys())[0]"
      ],
      "metadata": {
        "id": "z7KzFWRMu0pj",
        "collapsed": true
      },
      "execution_count": null,
      "outputs": []
    },
    {
      "cell_type": "code",
      "source": [
        "# === Step 2. Load the JSON file ===\n",
        "with open(filename, 'r') as f:\n",
        "    data = json.load(f)\n",
        "\n",
        "# Normalize data to a list\n",
        "if isinstance(data, dict):\n",
        "    annotations = [data]\n",
        "elif isinstance(data, list):\n",
        "    annotations = data\n",
        "else:\n",
        "    raise ValueError(\"Unexpected JSON format — must be list or dict\")\n",
        "\n",
        "print(f\"✅ Loaded {len(annotations)} annotations from {filename}\")"
      ],
      "metadata": {
        "id": "nOoTGpm_u2uz"
      },
      "execution_count": null,
      "outputs": []
    },
    {
      "cell_type": "code",
      "source": [
        "def schema_to_standard_json(entry):\n",
        "    output = {\n",
        "        \"invoice_number\": None,\n",
        "        \"patient_id\": None,\n",
        "        \"invoice_date\": None,\n",
        "        \"due_date\": None,\n",
        "        \"patient_name\": None,\n",
        "        \"patient_age\": None,\n",
        "        \"patient_address\": None,\n",
        "        \"patient_phone\": None,\n",
        "        \"patient_email\": None,\n",
        "        \"admission_date\": None,\n",
        "        \"discharge_date\": None,\n",
        "        \"subtotal_amount\": None,\n",
        "        \"discount_amount\": None,\n",
        "        \"total_amount\": None,\n",
        "        \"provider_name\": None,\n",
        "        \"bed_id\": None,\n",
        "        \"line_items\": []\n",
        "    }\n",
        "\n",
        "    line_item_fields = {\"description\": [], \"amount\": [], \"code\": []}\n",
        "\n",
        "    # --- Detect which format we're working with ---\n",
        "    if \"annotations\" in entry:\n",
        "        # 🆕 New format (nested under annotations → result → value)\n",
        "        results = entry.get(\"annotations\", [])[0].get(\"result\", [])\n",
        "        labels = [r[\"value\"] for r in results if \"value\" in r]\n",
        "    elif \"label\" in entry:\n",
        "        # 🧾 Old/simple format\n",
        "        labels = entry[\"label\"]\n",
        "    else:\n",
        "        labels = []\n",
        "\n",
        "    # --- Process all labels uniformly ---\n",
        "    for label in labels:\n",
        "        # Normalize key access between formats\n",
        "        value = label if \"labels\" in label else label.get(\"value\", {})\n",
        "        label_type = value[\"labels\"][0]\n",
        "        text = value.get(\"text\", \"\").strip()\n",
        "\n",
        "        if label_type == \"line_item_description\":\n",
        "            line_item_fields[\"description\"].append(text)\n",
        "        elif label_type == \"line_item_code\":\n",
        "            line_item_fields[\"code\"].append(text)\n",
        "        elif label_type == \"line_item_amount\":\n",
        "            try:\n",
        "                line_item_fields[\"amount\"].append(float(text))\n",
        "            except ValueError:\n",
        "                line_item_fields[\"amount\"].append(text)\n",
        "        else:\n",
        "            output[label_type] = text\n",
        "\n",
        "    # --- Combine structured line items ---\n",
        "    max_len = max(\n",
        "        len(line_item_fields[\"description\"]),\n",
        "        len(line_item_fields[\"code\"]),\n",
        "        len(line_item_fields[\"amount\"])\n",
        "    )\n",
        "    for i in range(max_len):\n",
        "        item = {\n",
        "            \"description\": line_item_fields[\"description\"][i] if i < len(line_item_fields[\"description\"]) else None,\n",
        "            \"code\": line_item_fields[\"code\"][i] if i < len(line_item_fields[\"code\"]) else None,\n",
        "            \"amount\": line_item_fields[\"amount\"][i] if i < len(line_item_fields[\"amount\"]) else None\n",
        "        }\n",
        "        output[\"line_items\"].append(item)\n",
        "\n",
        "    return output\n"
      ],
      "metadata": {
        "id": "LCUxiH-7u76D"
      },
      "execution_count": null,
      "outputs": []
    },
    {
      "cell_type": "code",
      "source": [
        "# === Step 4. Create output folder ===\n",
        "os.makedirs(\"standardized_invoices\", exist_ok=True)"
      ],
      "metadata": {
        "id": "5GsdEoxfu8TZ"
      },
      "execution_count": null,
      "outputs": []
    },
    {
      "cell_type": "code",
      "source": [
        "# === Step 5. Convert and save each invoice ===\n",
        "for entry in annotations:\n",
        "    converted_entry = schema_to_standard_json(entry)\n",
        "\n",
        "    # Use filename or ID for naming\n",
        "    base_name = entry.get(\"filename\") or f\"invoice_{entry.get('id', 'unknown')}.json\"\n",
        "    base_name = os.path.splitext(os.path.basename(base_name))[0] + \".json\"\n",
        "\n",
        "    out_path = os.path.join(\"standardized_invoices\", base_name)\n",
        "    with open(out_path, \"w\") as f:\n",
        "        json.dump(converted_entry, f, indent=2)\n",
        "\n",
        "print(f\"✅ Saved {len(annotations)} JSON files in 'standardized_invoices/'\")"
      ],
      "metadata": {
        "id": "_7Hzv4cGvF5G"
      },
      "execution_count": null,
      "outputs": []
    },
    {
      "cell_type": "code",
      "source": [
        "# === Step 6. Zip and download all files ===\n",
        "shutil.make_archive(\"standardized_invoices\", 'zip', \"standardized_invoices\")\n",
        "files.download(\"standardized_invoices.zip\")\n",
        "\n",
        "print(\"🎉 All done! Your ZIP file is ready for download.\")"
      ],
      "metadata": {
        "id": "BGtFGAzXu-2C"
      },
      "execution_count": null,
      "outputs": []
    }
  ]
}
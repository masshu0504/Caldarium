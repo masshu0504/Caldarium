{
  "nbformat": 4,
  "nbformat_minor": 0,
  "metadata": {
    "colab": {
      "provenance": []
    },
    "kernelspec": {
      "name": "python3",
      "display_name": "Python 3"
    },
    "language_info": {
      "name": "python"
    }
  },
  "cells": [
    {
      "cell_type": "code",
      "source": [
        "# This code is best run inside Google Colab, or some alternations have to be made to the code."
      ],
      "metadata": {
        "id": "rJqO0GbP60pU"
      },
      "execution_count": null,
      "outputs": []
    },
    {
      "cell_type": "code",
      "execution_count": null,
      "metadata": {
        "id": "I8oRDJ8Ggt2w",
        "collapsed": true
      },
      "outputs": [],
      "source": [
        "!pip install pdfplumber\n",
        "from google.colab import files\n",
        "import json, os, shutil"
      ]
    },
    {
      "cell_type": "code",
      "source": [
        "# === Step 1. Upload your Label Studio JSON ===\n",
        "uploaded = files.upload()\n",
        "filename = list(uploaded.keys())[0]"
      ],
      "metadata": {
        "id": "z7KzFWRMu0pj",
        "collapsed": true
      },
      "execution_count": null,
      "outputs": []
    },
    {
      "cell_type": "code",
      "source": [
        "# === Step 2. Load the JSON file ===\n",
        "with open(filename, 'r') as f:\n",
        "    data = json.load(f)\n",
        "\n",
        "# Normalize data to a list\n",
        "if isinstance(data, dict):\n",
        "    annotations = [data]\n",
        "elif isinstance(data, list):\n",
        "    annotations = data\n",
        "else:\n",
        "    raise ValueError(\"Unexpected JSON format — must be list or dict\")\n",
        "\n",
        "print(f\"✅ Loaded {len(annotations)} annotations from {filename}\")"
      ],
      "metadata": {
        "id": "nOoTGpm_u2uz"
      },
      "execution_count": null,
      "outputs": []
    },
    {
      "cell_type": "code",
      "source": [
        "def schema_to_standard_json(entry):\n",
        "    output = {\n",
        "        \"patient_name\": None,\n",
        "        \"patient_first_name\": None,\n",
        "        \"patient_middle_name\": None,\n",
        "        \"patient_last_name\": None,\n",
        "        \"patient_address_name\": None,\n",
        "        \"patient_id\": None,\n",
        "        \"patient_dob\": None,\n",
        "        \"patient_signature\": None,\n",
        "        \"patient_state\": None,\n",
        "        \"patient_city\": None,\n",
        "        \"patient_zip_code\": None,\n",
        "        \"provider_name\": None,\n",
        "        \"provider_address_name\": None,\n",
        "        \"provider_phone\": None,\n",
        "        \"provider_fax\": None,\n",
        "        \"provider_state\": None,\n",
        "        \"provider_city\": None,\n",
        "        \"provider_zip_code\": None,\n",
        "        \"family_name\": None,\n",
        "        \"family_relation\": None,\n",
        "        \"family_phone\": None,\n",
        "        \"family_address_name\": None,\n",
        "        \"family_state\": None,\n",
        "        \"family_city\": None,\n",
        "        \"family_zip_code\": None,\n",
        "        \"guardian_name\": None,\n",
        "        \"guardian_signature\": None,\n",
        "        \"guardian_relation\": None,\n",
        "        \"date\": None,\n",
        "        \"expiration_date\": None,\n",
        "        \"expiration_event\": None,\n",
        "        \"translator_name\": None,\n",
        "        \"translator_signature\": None\n",
        "    }\n",
        "\n",
        "\n",
        "    # --- Detect which format we're working with ---\n",
        "    if \"annotations\" in entry:\n",
        "        results = entry.get(\"annotations\", [])[0].get(\"result\", [])\n",
        "        labels = [r.get(\"value\", {}) for r in results if \"value\" in r]\n",
        "    elif \"label\" in entry:\n",
        "        labels = entry[\"label\"]\n",
        "    else:\n",
        "        labels = []\n",
        "\n",
        "    # --- Process all labels uniformly ---\n",
        "    for label in labels:\n",
        "        label_type = label.get(\"labels\", [None])[0]\n",
        "        text = label.get(\"text\", \"\").strip()\n",
        "\n",
        "        if label_type and label_type in output:\n",
        "            output[label_type] = text\n",
        "\n",
        "    return output"
      ],
      "metadata": {
        "id": "LCUxiH-7u76D"
      },
      "execution_count": null,
      "outputs": []
    },
    {
      "cell_type": "code",
      "source": [
        "# === Step 4. Create output folder ===\n",
        "os.makedirs(\"standardized_consents\", exist_ok=True)"
      ],
      "metadata": {
        "id": "5GsdEoxfu8TZ"
      },
      "execution_count": null,
      "outputs": []
    },
    {
      "cell_type": "code",
      "source": [
        "# === Step 5. Convert and save each invoice ===\n",
        "for entry in annotations:\n",
        "    converted_entry = schema_to_standard_json(entry)\n",
        "\n",
        "    # Use filename or ID for naming\n",
        "    base_name = entry.get(\"filename\") or f\"consent_{entry.get('id', 'unknown')}.json\"\n",
        "    base_name = os.path.splitext(os.path.basename(base_name))[0] + \".json\"\n",
        "\n",
        "    out_path = os.path.join(\"standardized_consents\", base_name)\n",
        "    with open(out_path, \"w\") as f:\n",
        "        json.dump(converted_entry, f, indent=2)\n",
        "\n",
        "print(f\"✅ Saved {len(annotations)} JSON files in 'standardized_consents/'\")"
      ],
      "metadata": {
        "id": "_7Hzv4cGvF5G"
      },
      "execution_count": null,
      "outputs": []
    },
    {
      "cell_type": "code",
      "source": [
        "# === Step 6. Zip and download all files ===\n",
        "shutil.make_archive(\"standardized_consents\", 'zip', \"standardized_consents\")\n",
        "files.download(\"standardized_consents.zip\")\n",
        "\n",
        "print(\"🎉 All done! Your ZIP file is ready for download.\")"
      ],
      "metadata": {
        "id": "BGtFGAzXu-2C"
      },
      "execution_count": null,
      "outputs": []
    }
  ]
}
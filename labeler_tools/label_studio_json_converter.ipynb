{
  "nbformat": 4,
  "nbformat_minor": 0,
  "metadata": {
    "colab": {
      "provenance": []
    },
    "kernelspec": {
      "name": "python3",
      "display_name": "Python 3"
    },
    "language_info": {
      "name": "python"
    }
  },
  "cells": [
    {
      "cell_type": "code",
      "source": [
        "# This code is best run inside Google Colab, or some alternations have to be made to the code.\n",
        "# For accurate output, make sure labeling is meticulous. Especially for line_items.\n",
        "# All descriptions labeled together, all codes labeled together, all amounts labeled together, all in the same order intended to appear in the JSON.\n"
      ],
      "metadata": {
        "id": "rJqO0GbP60pU"
      },
      "execution_count": null,
      "outputs": []
    },
    {
      "cell_type": "code",
      "execution_count": null,
      "metadata": {
        "id": "I8oRDJ8Ggt2w"
      },
      "outputs": [],
      "source": [
        "!pip install pdfplumber"
      ]
    },
    {
      "cell_type": "code",
      "source": [
        "from google.colab import files\n",
        "import json\n",
        "\n",
        "# Upload your Label Studio JSON\n",
        "uploaded = files.upload()\n",
        "\n",
        "# Get the uploaded filename\n",
        "filename = list(uploaded.keys())[0]\n",
        "\n",
        "# Load the JSON file\n",
        "with open(filename, 'r') as f:\n",
        "    data = json.load(f)\n",
        "\n",
        "# Normalize to a list of annotations\n",
        "if isinstance(data, dict):\n",
        "    annotations = [data]\n",
        "elif isinstance(data, list):\n",
        "    annotations = data\n",
        "else:\n",
        "    raise ValueError(\"Unexpected JSON format\")\n",
        "\n",
        "# Preview first annotation\n",
        "annotations[:1]"
      ],
      "metadata": {
        "id": "n3ODpRn8g_Uk"
      },
      "execution_count": null,
      "outputs": []
    },
    {
      "cell_type": "code",
      "source": [
        "def schema_to_standard_json(entry):\n",
        "    output = {\n",
        "        \"invoice_number\": None,\n",
        "        \"patient_id\": None,\n",
        "        \"invoice_date\": None,\n",
        "        \"due_date\": None,\n",
        "        \"patient_name\": None,\n",
        "        \"patient_age\": None,\n",
        "        \"patient_address\": None,\n",
        "        \"patient_phone\": None,\n",
        "        \"patient_email\": None,\n",
        "        \"admission_date\": None,\n",
        "        \"discharge_date\": None,\n",
        "        \"subtotal_amount\": None,\n",
        "        \"discount_amount\": None,\n",
        "        \"total_amount\": None,\n",
        "        \"provider_name\": None,\n",
        "        \"bed_id\": None,\n",
        "        \"line_items\": []\n",
        "    }\n",
        "\n",
        "    # Temporary holders for line item fields\n",
        "    line_item_fields = {\"description\": [], \"amount\": [], \"code\": []}\n",
        "\n",
        "    for label in entry.get(\"label\", []):\n",
        "        label_type = label[\"labels\"][0]\n",
        "        value = label[\"text\"]\n",
        "\n",
        "        if label_type == \"line_item_description\":\n",
        "            line_item_fields[\"description\"].append(value)\n",
        "        elif label_type == \"line_item_code\":\n",
        "            line_item_fields[\"code\"].append(value)\n",
        "        elif label_type == \"line_item_amount\":\n",
        "            try:\n",
        "                line_item_fields[\"amount\"].append(float(value))\n",
        "            except ValueError:\n",
        "                line_item_fields[\"amount\"].append(value)\n",
        "        else:\n",
        "            output[label_type] = value\n",
        "\n",
        "    # Combine line item fields into structured entries\n",
        "    max_len = max(len(line_item_fields[\"description\"]), len(line_item_fields[\"code\"]), len(line_item_fields[\"amount\"]))\n",
        "    for i in range(max_len):\n",
        "        item = {\n",
        "            \"description\": line_item_fields[\"description\"][i] if i < len(line_item_fields[\"description\"]) else None,\n",
        "            \"code\": line_item_fields[\"code\"][i] if i < len(line_item_fields[\"code\"]) else None,\n",
        "            \"amount\": line_item_fields[\"amount\"][i] if i < len(line_item_fields[\"amount\"]) else None\n",
        "        }\n",
        "        output[\"line_items\"].append(item)\n",
        "\n",
        "    return output\n",
        "\n",
        "# Convert all annotations\n",
        "converted = [schema_to_standard_json(a) for a in annotations]\n",
        "\n",
        "# Save to JSON file\n",
        "with open(\"standardized_invoice.json\", \"w\") as f:\n",
        "    json.dump(converted, f, indent=2)\n",
        "\n",
        "print(\"Standardized JSON has been saved to 'standardized_invoice.json'.\")"
      ],
      "metadata": {
        "id": "2cmk5_OChqZ9"
      },
      "execution_count": null,
      "outputs": []
    },
    {
      "cell_type": "code",
      "source": [
        "with open(\"converted.json\", \"w\") as f:\n",
        "    json.dump(converted, f, indent=2)\n",
        "\n",
        "# Download\n",
        "files.download(\"converted.json\")\n"
      ],
      "metadata": {
        "colab": {
          "base_uri": "https://localhost:8080/",
          "height": 17
        },
        "id": "Hr4B77ZxhtRW",
        "outputId": "c08d2141-2aad-4f6e-d027-c5101bb9dc94"
      },
      "execution_count": null,
      "outputs": [
        {
          "output_type": "display_data",
          "data": {
            "text/plain": [
              "<IPython.core.display.Javascript object>"
            ],
            "application/javascript": [
              "\n",
              "    async function download(id, filename, size) {\n",
              "      if (!google.colab.kernel.accessAllowed) {\n",
              "        return;\n",
              "      }\n",
              "      const div = document.createElement('div');\n",
              "      const label = document.createElement('label');\n",
              "      label.textContent = `Downloading \"${filename}\": `;\n",
              "      div.appendChild(label);\n",
              "      const progress = document.createElement('progress');\n",
              "      progress.max = size;\n",
              "      div.appendChild(progress);\n",
              "      document.body.appendChild(div);\n",
              "\n",
              "      const buffers = [];\n",
              "      let downloaded = 0;\n",
              "\n",
              "      const channel = await google.colab.kernel.comms.open(id);\n",
              "      // Send a message to notify the kernel that we're ready.\n",
              "      channel.send({})\n",
              "\n",
              "      for await (const message of channel.messages) {\n",
              "        // Send a message to notify the kernel that we're ready.\n",
              "        channel.send({})\n",
              "        if (message.buffers) {\n",
              "          for (const buffer of message.buffers) {\n",
              "            buffers.push(buffer);\n",
              "            downloaded += buffer.byteLength;\n",
              "            progress.value = downloaded;\n",
              "          }\n",
              "        }\n",
              "      }\n",
              "      const blob = new Blob(buffers, {type: 'application/binary'});\n",
              "      const a = document.createElement('a');\n",
              "      a.href = window.URL.createObjectURL(blob);\n",
              "      a.download = filename;\n",
              "      div.appendChild(a);\n",
              "      a.click();\n",
              "      div.remove();\n",
              "    }\n",
              "  "
            ]
          },
          "metadata": {}
        },
        {
          "output_type": "display_data",
          "data": {
            "text/plain": [
              "<IPython.core.display.Javascript object>"
            ],
            "application/javascript": [
              "download(\"download_63ed2610-fa6b-42c1-8c14-c40be7c4bc62\", \"converted.json\", 657)"
            ]
          },
          "metadata": {}
        }
      ]
    }
  ]
}